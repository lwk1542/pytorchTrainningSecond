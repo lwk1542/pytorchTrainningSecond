{
 "cells": [
  {
   "cell_type": "code",
   "execution_count": null,
   "metadata": {},
   "outputs": [],
   "source": [
    "1.Pytorch的基本概念：\n",
    "    PyTorch是使用GPU和CPU优化的深度学习张量库。早先的版本基于torch，当前的版本基于caffe，由facebook支持开发。\n",
    "    为什么选择pytroch？支持GPU；动态神经网络；Python 优先；命令式体验；轻松扩展。\n",
    "\n",
    "2.开发环境 \n",
    "   python3.7+anaconda5.3，cuda10.0，pycharm community百度搜索根据自己电脑配置下载相应的版本安装，cuda安装出现报错，参考https://blog.csdn.net/bingo_6/article/details/80114440和https://blog.csdn.net/zzpong/article/details/80282814 \n",
    "   注意：算力在3以下的英伟达显卡不支持CUDA8.0以上的GPU支持软件；也可不必安装pycharm，因为其很大，消耗资源多，功能冗余，可使用anaconda自带的编辑器或者VS code都是非常好的选择\n",
    "3.Pytorch安装\n",
    "   在官网https://pytorch.org/上根据自己的系统、环境和cuda版本按照指示安装"
   ]
  },
  {
   "cell_type": "code",
   "execution_count": 1,
   "metadata": {},
   "outputs": [
    {
     "name": "stdout",
     "output_type": "stream",
     "text": [
      "Net(\n",
      "  (hidden): Linear(in_features=1, out_features=10, bias=True)\n",
      "  (predict): Linear(in_features=10, out_features=1, bias=True)\n",
      ")\n"
     ]
    },
    {
     "data": {
      "text/plain": [
       "<Figure size 640x480 with 1 Axes>"
      ]
     },
     "metadata": {},
     "output_type": "display_data"
    },
    {
     "data": {
      "text/plain": [
       "<Figure size 640x480 with 1 Axes>"
      ]
     },
     "metadata": {},
     "output_type": "display_data"
    },
    {
     "data": {
      "text/plain": [
       "<Figure size 640x480 with 1 Axes>"
      ]
     },
     "metadata": {},
     "output_type": "display_data"
    },
    {
     "data": {
      "text/plain": [
       "<Figure size 640x480 with 1 Axes>"
      ]
     },
     "metadata": {},
     "output_type": "display_data"
    },
    {
     "data": {
      "text/plain": [
       "<Figure size 640x480 with 1 Axes>"
      ]
     },
     "metadata": {},
     "output_type": "display_data"
    },
    {
     "data": {
      "text/plain": [
       "<Figure size 640x480 with 1 Axes>"
      ]
     },
     "metadata": {},
     "output_type": "display_data"
    },
    {
     "data": {
      "text/plain": [
       "<Figure size 640x480 with 1 Axes>"
      ]
     },
     "metadata": {},
     "output_type": "display_data"
    },
    {
     "data": {
      "text/plain": [
       "<Figure size 640x480 with 1 Axes>"
      ]
     },
     "metadata": {},
     "output_type": "display_data"
    },
    {
     "data": {
      "text/plain": [
       "<Figure size 640x480 with 1 Axes>"
      ]
     },
     "metadata": {},
     "output_type": "display_data"
    },
    {
     "data": {
      "text/plain": [
       "<Figure size 640x480 with 1 Axes>"
      ]
     },
     "metadata": {},
     "output_type": "display_data"
    },
    {
     "data": {
      "text/plain": [
       "<Figure size 640x480 with 1 Axes>"
      ]
     },
     "metadata": {},
     "output_type": "display_data"
    },
    {
     "data": {
      "text/plain": [
       "<Figure size 640x480 with 1 Axes>"
      ]
     },
     "metadata": {},
     "output_type": "display_data"
    },
    {
     "data": {
      "text/plain": [
       "<Figure size 640x480 with 1 Axes>"
      ]
     },
     "metadata": {},
     "output_type": "display_data"
    },
    {
     "data": {
      "text/plain": [
       "<Figure size 640x480 with 1 Axes>"
      ]
     },
     "metadata": {},
     "output_type": "display_data"
    },
    {
     "data": {
      "text/plain": [
       "<Figure size 640x480 with 1 Axes>"
      ]
     },
     "metadata": {},
     "output_type": "display_data"
    },
    {
     "data": {
      "text/plain": [
       "<Figure size 640x480 with 1 Axes>"
      ]
     },
     "metadata": {},
     "output_type": "display_data"
    },
    {
     "data": {
      "text/plain": [
       "<Figure size 640x480 with 1 Axes>"
      ]
     },
     "metadata": {},
     "output_type": "display_data"
    },
    {
     "data": {
      "text/plain": [
       "<Figure size 640x480 with 1 Axes>"
      ]
     },
     "metadata": {},
     "output_type": "display_data"
    },
    {
     "data": {
      "text/plain": [
       "<Figure size 640x480 with 1 Axes>"
      ]
     },
     "metadata": {},
     "output_type": "display_data"
    },
    {
     "data": {
      "text/plain": [
       "<Figure size 640x480 with 1 Axes>"
      ]
     },
     "metadata": {},
     "output_type": "display_data"
    },
    {
     "data": {
      "text/plain": [
       "<Figure size 640x480 with 1 Axes>"
      ]
     },
     "metadata": {},
     "output_type": "display_data"
    },
    {
     "data": {
      "text/plain": [
       "<Figure size 640x480 with 1 Axes>"
      ]
     },
     "metadata": {},
     "output_type": "display_data"
    },
    {
     "data": {
      "text/plain": [
       "<Figure size 640x480 with 1 Axes>"
      ]
     },
     "metadata": {},
     "output_type": "display_data"
    },
    {
     "data": {
      "text/plain": [
       "<Figure size 640x480 with 1 Axes>"
      ]
     },
     "metadata": {},
     "output_type": "display_data"
    },
    {
     "data": {
      "text/plain": [
       "<Figure size 640x480 with 1 Axes>"
      ]
     },
     "metadata": {},
     "output_type": "display_data"
    },
    {
     "data": {
      "text/plain": [
       "<Figure size 640x480 with 1 Axes>"
      ]
     },
     "metadata": {},
     "output_type": "display_data"
    },
    {
     "data": {
      "text/plain": [
       "<Figure size 640x480 with 1 Axes>"
      ]
     },
     "metadata": {},
     "output_type": "display_data"
    },
    {
     "data": {
      "text/plain": [
       "<Figure size 640x480 with 1 Axes>"
      ]
     },
     "metadata": {},
     "output_type": "display_data"
    },
    {
     "data": {
      "text/plain": [
       "<Figure size 640x480 with 1 Axes>"
      ]
     },
     "metadata": {},
     "output_type": "display_data"
    },
    {
     "data": {
      "text/plain": [
       "<Figure size 640x480 with 1 Axes>"
      ]
     },
     "metadata": {},
     "output_type": "display_data"
    }
   ],
   "source": [
    "#4.一个实现过程\n",
    "#目标自动生成一组x和y，通过神经网络拟合x和y的关系\n",
    "import torch \n",
    "from torch.autograd import Variable \n",
    "import torch.nn.functional as F \n",
    "import matplotlib.pyplot as plt \n",
    "  \n",
    "    \n",
    "# x和y\n",
    "x = torch.unsqueeze(torch.linspace(-1, 1, 100), dim=1) # 将1维的数据转换为2维数据，即一行转为一列 \n",
    "y = x.pow(2) + 0.2 * torch.rand(x.size()) \n",
    "  \n",
    "# 将tensor置入Variable中 ，所有的数据都要经过variable处理\n",
    "x, y = Variable(x), Variable(y) \n",
    "  \n",
    "#plt.scatter(x.data.numpy(), y.data.numpy()) \n",
    "#plt.show() \n",
    "  \n",
    "# 定义一个构建神经网络的类 \n",
    "class Net(torch.nn.Module): # 继承torch.nn.Module类 \n",
    "    def __init__(self, n_feature, n_hidden, n_output): \n",
    "        super(Net, self).__init__() # 获得Net类的超类（父类）的构造方法 \n",
    "    # 定义神经网络的每层结构形式 \n",
    "    # 各个层的信息都是Net类对象的属性 \n",
    "        self.hidden = torch.nn.Linear(n_feature, n_hidden) # 隐藏层线性输出 \n",
    "        self.predict = torch.nn.Linear(n_hidden, n_output) # 输出层线性输出 \n",
    "  \n",
    "  # 将各层的神经元搭建成完整的神经网络的前向通路 \n",
    "    def forward(self, x): \n",
    "        x = F.relu(self.hidden(x)) # 对隐藏层的输出进行relu激活 \n",
    "        x = self.predict(x) \n",
    "        return x \n",
    "if __name__=='__main__':    \n",
    "    # 定义神经网络，一个类的实例\n",
    "    net = Net(1, 10, 1) \n",
    "    print(net) # 打印输出net的结构 \n",
    "\n",
    "    # 定义优化器和损失函数 \n",
    "    optimizer = torch.optim.SGD(net.parameters(), lr=0.5) # 传入网络参数和学习率 \n",
    "    loss_function = torch.nn.MSELoss() # 最小均方误差 \n",
    "\n",
    "    # 神经网络训练过程 \n",
    "    plt.ion()  # 动态学习过程展示 \n",
    "    plt.show() \n",
    "\n",
    "    for t in range(300): \n",
    "        prediction = net(x) # 把数据x喂给net，输出预测值 \n",
    "        loss = loss_function(prediction, y) # 计算两者的误差，要注意两个参数的顺序 \n",
    "        optimizer.zero_grad() # 清空上一步的更新参数值 \n",
    "        loss.backward() # 误差反相传播，计算新的更新参数值 \n",
    "        optimizer.step() # 将计算得到的更新值赋给net.parameters() \n",
    "\n",
    "      # 可视化训练过程 \n",
    "        if (t+1) % 10 == 0: \n",
    "            plt.cla() \n",
    "            plt.scatter(x.data.numpy(), y.data.numpy()) \n",
    "            plt.plot(x.data.numpy(), prediction.data.numpy(), 'r-', lw=5) \n",
    "            plt.text(0.5, 0, 'L=%.4f' % loss.data, fontdict={'size': 20, 'color': 'red'}) \n",
    "            plt.pause(0.1)"
   ]
  },
  {
   "cell_type": "code",
   "execution_count": null,
   "metadata": {},
   "outputs": [],
   "source": []
  }
 ],
 "metadata": {
  "kernelspec": {
   "display_name": "Python 3",
   "language": "python",
   "name": "python3"
  },
  "language_info": {
   "codemirror_mode": {
    "name": "ipython",
    "version": 3
   },
   "file_extension": ".py",
   "mimetype": "text/x-python",
   "name": "python",
   "nbconvert_exporter": "python",
   "pygments_lexer": "ipython3",
   "version": "3.7.2"
  }
 },
 "nbformat": 4,
 "nbformat_minor": 2
}
